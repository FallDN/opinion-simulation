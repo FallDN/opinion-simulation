{
 "cells": [
  {
   "cell_type": "code",
   "execution_count": 25,
   "metadata": {},
   "outputs": [],
   "source": [
    "from create_field import *\n",
    "import numpy as np"
   ]
  },
  {
   "cell_type": "markdown",
   "metadata": {},
   "source": [
    "**загрузка конфига визуализации**"
   ]
  },
  {
   "cell_type": "code",
   "execution_count": 26,
   "metadata": {},
   "outputs": [],
   "source": [
    "with open(os.path.join('configs', 'cfg_vis.json'), 'r') as f:\n",
    "    cfg = json.load(f)\n",
    "    \n",
    "cell_size = cfg['cell_size']\n",
    "window_name = cfg['window_name']"
   ]
  },
  {
   "cell_type": "markdown",
   "metadata": {},
   "source": [
    "**задание размера поля, типа соседства (Ring или Cross) и максимального кол-ва итераций**"
   ]
  },
  {
   "cell_type": "code",
   "execution_count": 27,
   "metadata": {},
   "outputs": [],
   "source": [
    "neighbors_type = 'Ring'\n",
    "field_size = 20\n",
    "max_iterations = 100"
   ]
  },
  {
   "cell_type": "markdown",
   "metadata": {},
   "source": [
    "**путь до директории, в которой будет создан конфиг**"
   ]
  },
  {
   "cell_type": "code",
   "execution_count": 28,
   "metadata": {},
   "outputs": [],
   "source": [
    "new_cfg_path = os.path.join('configs', 'config_6')\n",
    "if not os.path.exists(new_cfg_path):\n",
    "    os.makedirs(new_cfg_path)"
   ]
  },
  {
   "cell_type": "markdown",
   "metadata": {},
   "source": [
    "**создание изначальных мнений**\n",
    "\n",
    "Открывается окно с полем. Можно нажимать на клетки, тем самым окрашивая их и задавая нужно мнение.\n",
    "\n",
    "Выход нажатием любой клавиши на клавиатуре"
   ]
  },
  {
   "cell_type": "code",
   "execution_count": 29,
   "metadata": {},
   "outputs": [
    {
     "name": "stdout",
     "output_type": "stream",
     "text": [
      "[[0 0 0 0 0 0 0 0 0 0 0 0 0 0 0 0 0 0 0 0]\n",
      " [0 0 0 0 0 0 0 0 0 0 0 0 0 0 0 0 0 0 0 0]\n",
      " [0 0 0 0 0 0 0 0 0 0 0 0 0 0 0 0 0 0 0 0]\n",
      " [0 0 0 0 0 0 0 0 0 0 0 0 0 0 0 0 0 0 0 0]\n",
      " [0 0 0 0 0 0 0 0 0 0 0 0 0 0 0 0 0 0 0 0]\n",
      " [0 0 1 0 0 0 0 1 0 0 1 1 1 1 0 1 0 0 0 1]\n",
      " [0 0 1 1 0 0 0 1 0 0 1 0 0 0 0 1 0 0 0 1]\n",
      " [0 0 1 1 1 0 0 1 0 1 0 0 0 0 0 1 0 0 0 1]\n",
      " [0 0 1 0 1 0 0 1 0 1 0 0 0 0 0 1 0 0 0 1]\n",
      " [0 0 1 0 0 1 0 1 0 0 1 1 1 1 0 1 0 0 0 1]\n",
      " [0 0 1 0 0 0 1 1 0 0 0 0 0 1 0 1 0 0 0 1]\n",
      " [0 0 1 0 0 0 0 1 0 0 0 0 0 1 0 1 1 0 1 0]\n",
      " [0 0 1 0 0 0 0 1 0 0 0 1 1 1 0 0 0 1 0 0]\n",
      " [0 0 0 0 0 0 0 0 0 0 1 0 0 0 0 0 0 0 0 0]\n",
      " [0 0 0 0 0 0 0 0 0 0 0 0 0 0 0 0 0 0 0 0]\n",
      " [0 0 0 0 0 0 0 0 0 0 0 0 0 0 0 0 0 0 0 0]\n",
      " [0 0 0 0 0 0 0 0 0 0 0 0 0 0 0 0 0 0 0 0]\n",
      " [0 0 0 0 0 0 0 0 0 0 0 0 0 0 0 0 0 0 0 0]\n",
      " [0 0 0 0 0 0 0 0 0 0 0 0 0 0 0 0 0 0 0 0]\n",
      " [0 0 0 0 0 0 0 0 0 0 0 0 0 0 0 0 0 0 0 0]]\n"
     ]
    }
   ],
   "source": [
    "grid_size = (field_size, field_size)\n",
    "f = create_field(grid_size, cell_size, window_name)\n",
    "print(f)"
   ]
  },
  {
   "cell_type": "markdown",
   "metadata": {},
   "source": [
    "**создание матрицы конформистов | нонконформистов | фиксированных**\n",
    "\n",
    "0 = конформист | 1 = нонконформист | 2 - фиксированный\n",
    "\n",
    "задается максимальное количество нонконформистов и фиксированных, которые случайно расставляются по полю"
   ]
  },
  {
   "cell_type": "code",
   "execution_count": 30,
   "metadata": {},
   "outputs": [
    {
     "name": "stdout",
     "output_type": "stream",
     "text": [
      "[[0 0 0 0 0 0 0 0 0 0 0 0 0 0 0 0 0 0 0 0]\n",
      " [0 0 0 0 0 0 0 0 0 0 0 0 0 0 0 0 0 0 0 0]\n",
      " [0 0 0 0 0 0 0 0 0 0 0 0 0 0 0 0 0 0 0 0]\n",
      " [0 0 0 0 0 0 0 0 0 0 0 0 0 0 0 0 0 0 0 0]\n",
      " [0 0 0 0 0 0 0 0 0 0 0 0 0 0 0 0 0 0 0 0]\n",
      " [0 0 0 0 0 0 0 0 0 0 0 0 2 0 0 0 0 0 0 0]\n",
      " [0 0 0 0 0 0 0 0 0 0 0 0 0 0 0 0 0 0 0 0]\n",
      " [0 0 0 0 0 0 0 2 0 0 0 0 0 0 0 0 0 0 2 0]\n",
      " [2 0 0 0 0 0 0 0 0 0 0 0 0 0 0 0 0 0 0 0]\n",
      " [0 0 0 0 0 0 0 0 0 0 0 0 0 0 0 0 0 0 0 0]\n",
      " [0 0 0 0 0 0 0 0 0 0 0 0 0 0 0 0 0 0 0 0]\n",
      " [0 0 0 0 0 0 0 0 0 0 0 0 0 0 0 0 0 0 0 0]\n",
      " [0 0 0 0 0 0 0 0 0 0 0 0 0 0 0 0 0 0 0 0]\n",
      " [0 0 0 0 0 0 0 0 0 0 0 0 0 0 0 0 0 0 0 0]\n",
      " [0 0 0 0 0 0 0 0 0 0 2 0 0 0 0 0 0 0 0 0]\n",
      " [0 0 0 0 0 2 0 0 0 0 2 0 0 0 0 0 2 0 0 0]\n",
      " [0 0 0 0 0 0 0 0 0 0 0 0 0 0 0 0 0 0 0 0]\n",
      " [0 0 0 0 0 0 0 0 0 0 0 0 0 0 0 0 0 0 0 0]\n",
      " [0 0 0 0 2 0 0 0 0 0 0 0 0 0 0 0 0 0 0 2]\n",
      " [0 0 0 0 0 0 0 0 0 0 0 0 0 0 0 0 0 0 0 0]]\n"
     ]
    }
   ],
   "source": [
    "def create_matrix(grid_size, num_nonconf, num_fixed):\n",
    "    \n",
    "    matrix = np.zeros(grid_size, dtype=int)\n",
    "    \n",
    "    indices_ones = np.random.choice(400, num_nonconf, replace=False)\n",
    "    matrix.ravel()[indices_ones] = 1\n",
    "\n",
    "    indices_twos = np.random.choice(400, num_fixed, replace=False)\n",
    "    matrix.ravel()[indices_twos] = 2\n",
    "    \n",
    "    return matrix\n",
    "\n",
    "num_nonconf = 0\n",
    "num_fixed = 10\n",
    "\n",
    "matrix = create_matrix(grid_size, num_nonconf, num_fixed)\n",
    "print(matrix)"
   ]
  },
  {
   "cell_type": "markdown",
   "metadata": {},
   "source": [
    "**Сохранение конфига**"
   ]
  },
  {
   "cell_type": "code",
   "execution_count": 31,
   "metadata": {},
   "outputs": [],
   "source": [
    "new_config = {}\n",
    "\n",
    "new_config['iterations'] = max_iterations\n",
    "new_config['field_type'] = neighbors_type\n",
    "new_config['field_size'] = field_size\n",
    "new_config['field'] = str(f.tolist())\n",
    "new_config['opinions'] = str(matrix.tolist())\n",
    "\n",
    "with open(os.path.join(new_cfg_path, 'config.json'), 'w') as f:\n",
    "    json.dump(new_config, f)"
   ]
  }
 ],
 "metadata": {
  "kernelspec": {
   "display_name": ".venv",
   "language": "python",
   "name": "python3"
  },
  "language_info": {
   "codemirror_mode": {
    "name": "ipython",
    "version": 3
   },
   "file_extension": ".py",
   "mimetype": "text/x-python",
   "name": "python",
   "nbconvert_exporter": "python",
   "pygments_lexer": "ipython3",
   "version": "3.10.9"
  }
 },
 "nbformat": 4,
 "nbformat_minor": 2
}
