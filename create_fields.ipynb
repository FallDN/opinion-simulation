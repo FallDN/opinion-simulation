{
 "cells": [
  {
   "cell_type": "code",
   "execution_count": 2,
   "metadata": {},
   "outputs": [],
   "source": [
    "from create_field import *\n",
    "import numpy as np"
   ]
  },
  {
   "cell_type": "markdown",
   "metadata": {},
   "source": [
    "загрузка общего конфига"
   ]
  },
  {
   "cell_type": "code",
   "execution_count": 3,
   "metadata": {},
   "outputs": [],
   "source": [
    "with open(os.path.join('configs', 'cfg.json'), 'r') as f:\n",
    "    cfg = json.load(f)"
   ]
  },
  {
   "cell_type": "code",
   "execution_count": 4,
   "metadata": {},
   "outputs": [],
   "source": [
    "grid_size = (cfg['grids_n'], cfg['grids_n'])\n",
    "cell_size = cfg['cell_size']\n",
    "window_name = cfg['window_name']"
   ]
  },
  {
   "cell_type": "markdown",
   "metadata": {},
   "source": [
    "путь до директории, в которой будет создан конфиг"
   ]
  },
  {
   "cell_type": "code",
   "execution_count": 6,
   "metadata": {},
   "outputs": [],
   "source": [
    "new_cfg_path = 'configs/config_4'\n",
    "if not os.path.exists(new_cfg_path):\n",
    "    os.makedirs(new_cfg_path)"
   ]
  },
  {
   "cell_type": "markdown",
   "metadata": {},
   "source": [
    "создание изначальных мнений\n",
    "\n",
    "открывается окно с полем. Можно нажимать на клетки, тем самым окрашивая их и задавая нужно мнение\n",
    "\n",
    "итоговая матрица сохранится в json"
   ]
  },
  {
   "cell_type": "code",
   "execution_count": 8,
   "metadata": {},
   "outputs": [],
   "source": [
    "f = create_field(grid_size, cell_size, window_name)\n",
    "\n",
    "field_list = f.tolist()\n",
    "\n",
    "with open(os.path.join(new_cfg_path, 'field.json'), 'w') as json_file:\n",
    "    json.dump(field_list, json_file)"
   ]
  },
  {
   "cell_type": "markdown",
   "metadata": {},
   "source": [
    "создание матрицы конформистов | нонконформистов | фиксированных\n",
    "\n",
    "0 = конформист | 1 = нонконформист | 2 - фиксированный\n",
    "\n",
    "задается максимальное количество нонконформистов и фиксированных, которые случайно расставляются по полю"
   ]
  },
  {
   "cell_type": "code",
   "execution_count": 5,
   "metadata": {},
   "outputs": [
    {
     "name": "stdout",
     "output_type": "stream",
     "text": [
      "[[0 0 2 0 0 2 1 0 0 0 0 0 0 0 0 0 0 0 1 0]\n",
      " [0 1 0 0 0 0 1 1 0 1 0 0 1 0 0 0 0 0 0 1]\n",
      " [1 0 0 0 0 0 0 0 2 0 2 1 0 0 0 0 1 0 0 1]\n",
      " [0 0 0 0 0 0 2 0 0 1 0 1 0 0 0 0 0 2 0 1]\n",
      " [1 0 0 0 0 0 1 0 0 0 0 0 0 1 0 1 0 0 0 0]\n",
      " [1 0 0 0 0 0 0 0 0 0 0 0 0 0 0 0 1 0 0 0]\n",
      " [0 0 0 1 0 1 0 0 0 0 0 0 0 1 1 0 0 2 0 0]\n",
      " [0 0 1 0 1 0 2 0 0 0 1 0 0 0 1 0 0 0 0 0]\n",
      " [0 0 0 0 0 0 1 0 0 0 0 0 0 0 0 0 0 0 2 0]\n",
      " [0 0 0 0 0 0 0 0 0 0 0 0 0 0 2 0 0 0 0 0]\n",
      " [0 0 0 0 0 0 0 1 0 0 0 0 0 0 0 0 0 0 0 0]\n",
      " [2 0 0 0 0 0 0 0 1 0 0 0 0 0 0 1 1 0 0 0]\n",
      " [1 0 0 0 0 0 1 0 0 0 0 1 0 2 0 1 0 0 0 0]\n",
      " [0 0 0 0 0 0 0 1 2 1 0 1 0 0 0 0 0 0 0 1]\n",
      " [1 1 1 1 0 0 0 0 0 0 2 0 0 1 2 0 0 0 0 0]\n",
      " [0 0 2 0 0 0 0 1 0 0 0 0 0 1 0 0 0 0 0 0]\n",
      " [0 0 1 0 0 0 0 0 0 0 0 1 0 0 0 0 0 0 0 0]\n",
      " [0 0 0 0 1 0 0 1 2 0 0 1 0 0 0 0 0 0 0 0]\n",
      " [0 0 0 0 1 1 0 0 0 0 0 0 1 0 0 2 0 0 2 0]\n",
      " [0 2 0 0 0 0 0 0 0 0 0 0 0 0 1 0 1 0 0 0]]\n"
     ]
    }
   ],
   "source": [
    "def create_matrix(grid_size, num_nonconf, num_fixed):\n",
    "    \n",
    "    matrix = np.zeros(grid_size, dtype=int)\n",
    "    \n",
    "    indices_ones = np.random.choice(400, num_nonconf, replace=False)\n",
    "    matrix.ravel()[indices_ones] = 1\n",
    "\n",
    "    indices_twos = np.random.choice(400, num_fixed, replace=False)\n",
    "    matrix.ravel()[indices_twos] = 2\n",
    "    \n",
    "    return matrix\n",
    "\n",
    "num_nonconf = 60\n",
    "num_fixed = 20\n",
    "\n",
    "matrix = create_matrix(grid_size, num_nonconf, num_fixed)\n",
    "print(matrix)\n",
    "\n",
    "\n",
    "with open(os.path.join(new_cfg_path, 'opinion_matrix.json'), 'w') as json_file:\n",
    "    json.dump(matrix.tolist(), json_file)"
   ]
  }
 ],
 "metadata": {
  "kernelspec": {
   "display_name": ".venv",
   "language": "python",
   "name": "python3"
  },
  "language_info": {
   "codemirror_mode": {
    "name": "ipython",
    "version": 3
   },
   "file_extension": ".py",
   "mimetype": "text/x-python",
   "name": "python",
   "nbconvert_exporter": "python",
   "pygments_lexer": "ipython3",
   "version": "3.10.9"
  }
 },
 "nbformat": 4,
 "nbformat_minor": 2
}
