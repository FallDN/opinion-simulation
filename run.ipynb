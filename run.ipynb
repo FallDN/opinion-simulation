{
 "cells": [
  {
   "cell_type": "code",
   "execution_count": 22,
   "metadata": {},
   "outputs": [],
   "source": [
    "from create_field import *\n",
    "from field import *\n",
    "\n",
    "import numpy as np\n",
    "from matplotlib import pyplot as plt\n",
    "import cv2\n",
    "import json\n",
    "import os"
   ]
  },
  {
   "cell_type": "markdown",
   "metadata": {},
   "source": [
    "### Функция запуска\n",
    "\n",
    "Обязательный параметр - путь до конфига\n",
    "\n",
    "Также можно передать следующие параметры:\n",
    "\n",
    "1. Ключ для сохранения статистики без самих картинок поля (установить = False для сохранения картинок)\n",
    "2. Путь до директории сохранения результатов"
   ]
  },
  {
   "cell_type": "code",
   "execution_count": 23,
   "metadata": {},
   "outputs": [],
   "source": [
    "def run_field(cfg_path, save_only_stat=True, save_direcory='results'):\n",
    "\n",
    "    with open(os.path.join('configs', 'cfg_vis.json'), 'r') as f:\n",
    "        cfg_vis = json.load(f)\n",
    "\n",
    "    cell_size = cfg_vis['cell_size']\n",
    "    window_name = cfg_vis['window_name']\n",
    "    show = cfg_vis['show']\n",
    "    \n",
    "    with open(cfg_path, 'r') as f:\n",
    "        config = json.load(f)\n",
    "    \n",
    "    max_iterations = config['iterations']\n",
    "    neighbours_type = config['field_type']\n",
    "    field_size = config['field_size']\n",
    "    grid = np.array(json.loads(config['field']))\n",
    "    opinion_matrix = np.array(json.loads(config['opinions']))\n",
    "    \n",
    "    if neighbours_type == 'Ring':\n",
    "        life1 = Ring(\n",
    "            field=grid,\n",
    "            shape=grid.shape,\n",
    "            opinion_matrix=opinion_matrix\n",
    "            )\n",
    "    else:\n",
    "        life1 = Cross( \n",
    "            field=grid,\n",
    "            shape=grid.shape,\n",
    "            opinion_matrix=opinion_matrix\n",
    "            )\n",
    "        \n",
    "    result_imgs = []\n",
    "    result_stat = []\n",
    "\n",
    "    for _ in range(max_iterations):\n",
    "        img = life1.plot(cell_size)\n",
    "        result_imgs.append(img)\n",
    "        result_stat.append(life1.calculate_stat())\n",
    "\n",
    "        if show:\n",
    "            cv2.namedWindow(window_name)\n",
    "            cv2.imshow(window_name, img)\n",
    "            key = cv2.waitKey(0)\n",
    "            if key == 27:\n",
    "                break\n",
    "\n",
    "        life1.life_cycle()\n",
    "            \n",
    "    cv2.destroyAllWindows()\n",
    "    \n",
    "    \n",
    "    if not os.path.exists(save_direcory):\n",
    "        os.makedirs(save_direcory)\n",
    "\n",
    "    if not save_only_stat:\n",
    "        imgs_path = os.path.join(save_direcory, 'imgs')\n",
    "\n",
    "        if not os.path.exists(imgs_path):\n",
    "            os.makedirs(imgs_path)\n",
    "\n",
    "        for i, img in enumerate(result_imgs):\n",
    "            if i % 10 == 0:\n",
    "                cv2.imwrite(\n",
    "                    os.path.join(imgs_path, f'{i}.png'),\n",
    "                    img\n",
    "                    )\n",
    "\n",
    "    with open(os.path.join(save_direcory, 'stat.json'), 'w') as f:\n",
    "        json.dump(result_stat, f)\n",
    "    \n",
    "    plt.plot(range(len(result_stat)), result_stat)\n",
    "    plt.title('Доля нулевого мнения')\n",
    "    plt.savefig(os.path.join(save_direcory, 'plot.png'))\n",
    "    \n",
    "    return result_imgs, result_stat\n"
   ]
  },
  {
   "cell_type": "markdown",
   "metadata": {},
   "source": [
    "### выбор конфига и запуск программы"
   ]
  },
  {
   "cell_type": "code",
   "execution_count": 24,
   "metadata": {},
   "outputs": [
    {
     "data": {
      "image/png": "[encoded data removed]",
      "text/plain": [
       "<Figure size 640x480 with 1 Axes>"
      ]
     },
     "metadata": {},
     "output_type": "display_data"
    }
   ],
   "source": [
    "cfg_path = 'configs\\\\config_5\\\\config.json'\n",
    "save_path = 'results\\\\config_5'\n",
    "\n",
    "r_i, r_s = run_field(cfg_path, save_only_stat=False, save_direcory=save_path)"
   ]
  }
 ],
 "metadata": {
  "kernelspec": {
   "display_name": ".venv",
   "language": "python",
   "name": "python3"
  },
  "language_info": {
   "codemirror_mode": {
    "name": "ipython",
    "version": 3
   },
   "file_extension": ".py",
   "mimetype": "text/x-python",
   "name": "python",
   "nbconvert_exporter": "python",
   "pygments_lexer": "ipython3",
   "version": "3.10.9"
  }
 },
 "nbformat": 4,
 "nbformat_minor": 2
}
